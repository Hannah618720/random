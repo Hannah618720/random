{
 "cells": [
  {
   "cell_type": "code",
   "execution_count": 1,
   "id": "8c7084db-255f-4f9f-a3bd-fb2dd7764569",
   "metadata": {},
   "outputs": [],
   "source": [
    "import json"
   ]
  },
  {
   "cell_type": "code",
   "execution_count": 3,
   "id": "fe8ff359-e583-4f0f-b7ee-1227e01681e8",
   "metadata": {},
   "outputs": [
    {
     "name": "stdout",
     "output_type": "stream",
     "text": [
      "{'wraps': ['Tortilla/Cabbage', 'Meat', 'Pickles'], 'sandwich': ['Bread', 'Cheese', 'Pickles'], 'snack': ['Sweet Potatoes', 'Grapes', 'Chips'], 'pasta': ['Tomato', 'Milk', 'Pasta', 'Bacon']}\n"
     ]
    }
   ],
   "source": [
    "try: \n",
    "    with open(\"recipes.json\", \"r\") as f: \n",
    "        recipes = json.load(f) \n",
    "except FileNotFoundError:  # If no file exists yet, use defaults\n",
    "    recipes ={\"wraps\":[\"Tortilla/Cabbage\",\"Meat\",\"Pickles\"],\"sandwich\":[\"Bread\",\"Cheese\",\"Pickles\"],\"snack\":[\"Sweet Potatoes\",\"Grapes\",\"Chips\"],\"pasta\":[\"Tomato\",\"Milk\",\"Pasta\",\"Bacon\"]}\n",
    "print(recipes)"
   ]
  },
  {
   "cell_type": "code",
   "execution_count": 4,
   "id": "20dabc09-d554-477c-9bd2-9037a500e301",
   "metadata": {},
   "outputs": [
    {
     "name": "stdin",
     "output_type": "stream",
     "text": [
      "What do you want to eat? cake\n",
      "Recipe not found. Do you want to add the recipe in the recipe book?[Yes/No] yes\n",
      "List the ingredients (commas separated):  Betty Crocker Batter,Egg\n"
     ]
    },
    {
     "name": "stdout",
     "output_type": "stream",
     "text": [
      "Added 'cake' to recipes!\n"
     ]
    }
   ],
   "source": [
    "recipe_name = input(\"What do you want to eat?\").lower()\n",
    "if recipe_name in recipes:\n",
    "    print(f\"You need: {', '.join(recipes[recipe_name])}\")\n",
    "else:\n",
    "    recipe_notf = input(\"Recipe not found. Do you want to add the recipe in the recipe book?[Yes/No]\").lower()\n",
    "    if recipe_notf == \"yes\":\n",
    "        ingredients = input(\"List the ingredients (commas separated): \").split(\",\")\n",
    "        recipes[recipe_name] = [ingredient.strip() for ingredient in ingredients]\n",
    "    print(f\"Added '{recipe_name}' to recipes!\")\n",
    "    with open(\"recipes.json\", \"w\") as f:\n",
    "            json.dump(recipes, f)"
   ]
  },
  {
   "cell_type": "code",
   "execution_count": 5,
   "id": "34cac3ca-c556-44fd-a0db-b72922ae380d",
   "metadata": {},
   "outputs": [
    {
     "name": "stdout",
     "output_type": "stream",
     "text": [
      "{'wraps': ['Tortilla/Cabbage', 'Meat', 'Pickles'], 'sandwich': ['Bread', 'Cheese', 'Pickles'], 'snack': ['Sweet Potatoes', 'Grapes', 'Chips'], 'pasta': ['Tomato', 'Milk', 'Pasta', 'Bacon'], 'cake': ['Betty Crocker Batter', 'Egg']}\n"
     ]
    }
   ],
   "source": [
    "print(recipes)"
   ]
  }
 ],
 "metadata": {
  "kernelspec": {
   "display_name": "Python 3 (ipykernel)",
   "language": "python",
   "name": "python3"
  },
  "language_info": {
   "codemirror_mode": {
    "name": "ipython",
    "version": 3
   },
   "file_extension": ".py",
   "mimetype": "text/x-python",
   "name": "python",
   "nbconvert_exporter": "python",
   "pygments_lexer": "ipython3",
   "version": "3.12.7"
  }
 },
 "nbformat": 4,
 "nbformat_minor": 5
}
